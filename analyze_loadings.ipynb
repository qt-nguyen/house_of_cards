{
 "cells": [
  {
   "cell_type": "code",
   "execution_count": null,
   "id": "2d655240",
   "metadata": {},
   "outputs": [],
   "source": [
    "import numpy as np\n",
    "import pandas as pd\n",
    "import json\n",
    "import csv\n",
    "import os\n",
    "\n",
    "PATH = \"./dump/\""
   ]
  },
  {
   "cell_type": "code",
   "execution_count": 21,
   "id": "9e0e17bb",
   "metadata": {},
   "outputs": [],
   "source": [
    "df_raw = pd.read_json(PATH + \"raw_data.json\")\n",
    "df_roll = df_raw[[\"vote_id\", \"category\", \"type\", \"question\", \"subject\", \"result\"]] "
   ]
  },
  {
   "cell_type": "code",
   "execution_count": 22,
   "id": "3147efb2",
   "metadata": {},
   "outputs": [],
   "source": [
    "df_raw = pd.read_csv(PATH + \"v.txt\", sep=\"\\t\", header=None)\n",
    "df_weight = df_raw.iloc[:2].transpose()\n",
    "df_weight.columns = [\"pc1\", \"pc2\"]"
   ]
  },
  {
   "cell_type": "code",
   "execution_count": 32,
   "id": "74d0a30e",
   "metadata": {},
   "outputs": [],
   "source": [
    "df_weight = df_weight.merge(df_roll, how=\"inner\", left_index=True, right_index=True)"
   ]
  },
  {
   "cell_type": "code",
   "execution_count": 24,
   "id": "f8981029",
   "metadata": {},
   "outputs": [],
   "source": [
    "df_weight.sort_values(by=\"pc1\", ascending=False, inplace=True)"
   ]
  },
  {
   "cell_type": "code",
   "execution_count": 31,
   "id": "8ad32fac",
   "metadata": {},
   "outputs": [],
   "source": [
    "df_weight.to_excel(\"df_weight.xlsx\")\n",
    "os.startfile(\"df_weight.xlsx\")"
   ]
  }
 ],
 "metadata": {
  "kernelspec": {
   "display_name": "Python 3",
   "language": "python",
   "name": "python3"
  },
  "language_info": {
   "codemirror_mode": {
    "name": "ipython",
    "version": 3
   },
   "file_extension": ".py",
   "mimetype": "text/x-python",
   "name": "python",
   "nbconvert_exporter": "python",
   "pygments_lexer": "ipython3",
   "version": "3.11.2"
  }
 },
 "nbformat": 4,
 "nbformat_minor": 5
}

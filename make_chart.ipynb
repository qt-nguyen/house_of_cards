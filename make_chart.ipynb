{
 "cells": [
  {
   "cell_type": "code",
   "execution_count": null,
   "id": "19c578c3",
   "metadata": {},
   "outputs": [],
   "source": [
    "from src.collector import *\n",
    "from src.combiner import *\n",
    "from src.composer import *\n",
    "from src.decomposer import *\n",
    "import plotly.express as px\n",
    "import plotly.graph_objects as go\n",
    "from sklearn.decomposition import PCA\n",
    "import numpy as np\n",
    "import json"
   ]
  },
  {
   "cell_type": "code",
   "execution_count": null,
   "id": "8b37f7ac",
   "metadata": {},
   "outputs": [],
   "source": [
    "def make_chart(years):\n",
    "    # df = pd.read_csv(f\"./cleaned/{year}_votes.csv\")\n",
    "    # df_meta = pd.read_csv(f\"./cleaned/{year}_meta.csv\")\n",
    "    \n",
    "    raw_data = Collector.collect_data(years, \"h\")\n",
    "    json.dump(raw_data, open(\"./dump/raw_data.json\", \"w\"))\n",
    "    df, df_meta = Combiner.combine_all_roll_calls_into_df(raw_data)\n",
    "    \n",
    "    df = Composer.map_values(df)\n",
    "    df = Composer.filter_excessive_abstentions(df)\n",
    "    df = Composer.normalize_votes(df)\n",
    "    \n",
    "    df_meta = df_meta[df_meta[\"id\"].isin(df[\"id\"])].drop_duplicates(\"id\")\n",
    "    df_meta[\"color\"] = np.where(df_meta[\"party\"] == \"D\", \"blue\", \"red\")\n",
    "    df_meta[\"label\"] = df_meta[\"name\"] + \" (\" + df_meta[\"party\"] + \"-\" + df_meta[\"state\"] + \")\"\n",
    "    \n",
    "    mat = Composer.create_voting_matrix(df)\n",
    "    \n",
    "    u,s,v =  Decomposer.svd(mat)\n",
    "    us = u * s\n",
    "    np.savetxt(\"./dump/v.txt\",\n",
    "               v,\n",
    "               fmt=\"%.3f\",\n",
    "               delimiter=\"\\t\"\n",
    "    )\n",
    "    \n",
    "\n",
    "    fig = go.Figure(data=go.Scatter(\n",
    "        x=us[:, 0], \n",
    "        y=us[:,1],\n",
    "        mode=\"markers\",\n",
    "        marker=dict(color=df_meta[\"color\"], size=5),\n",
    "        text=df_meta[\"label\"],\n",
    "        hoverinfo=\"text\",)\n",
    "                )\n",
    "    \n",
    "    fig.update_layout(\n",
    "        title=dict(\n",
    "            text=str(years),\n",
    "            x=0.5,\n",
    "            xanchor='center',\n",
    "            font=dict(size=20)\n",
    "            \n",
    "        ),\n",
    "    )\n",
    "    \n",
    "    return fig\n"
   ]
  },
  {
   "cell_type": "code",
   "execution_count": 3,
   "id": "372c608a",
   "metadata": {},
   "outputs": [
    {
     "name": "stdout",
     "output_type": "stream",
     "text": [
      "Found 517 for the year 2024\n",
      "Found in total 517 entries\n"
     ]
    },
    {
     "name": "stderr",
     "output_type": "stream",
     "text": [
      "100%|██████████| 517/517 [00:01<00:00, 513.83it/s]\n",
      "d:\\projects\\house\\src\\composer.py:21: FutureWarning: Downcasting behavior in `replace` is deprecated and will be removed in a future version. To retain the old behavior, explicitly call `result.infer_objects(copy=False)`. To opt-in to the future behavior, set `pd.set_option('future.no_silent_downcasting', True)`\n",
      "  return df.replace(value_map)\n"
     ]
    },
    {
     "data": {
      "application/vnd.plotly.v1+json": {
       "config": {
        "plotlyServerURL": "https://plot.ly"
       },
       "data": [
        {
         "hoverinfo": "text",
         "marker": {
          "color": [
           "red",
           "blue",
           "red",
           "blue",
           "blue",
           "red",
           "red",
           "blue",
           "red",
           "red",
           "blue",
           "blue",
           "blue",
           "red",
           "red",
           "red",
           "red",
           "red",
           "red",
           "red",
           "blue",
           "blue",
           "red",
           "blue",
           "blue",
           "red",
           "blue",
           "red",
           "blue",
           "red",
           "red",
           "blue",
           "red",
           "red",
           "blue",
           "red",
           "red",
           "red",
           "red",
           "blue",
           "red",
           "blue",
           "red",
           "red",
           "blue",
           "red",
           "blue",
           "red",
           "red",
           "red",
           "red",
           "blue",
           "blue",
           "blue",
           "blue",
           "blue",
           "blue",
           "blue",
           "blue",
           "blue",
           "blue",
           "blue",
           "red",
           "blue",
           "blue",
           "blue",
           "blue",
           "red",
           "red",
           "blue",
           "blue",
           "red",
           "red",
           "red",
           "blue",
           "red",
           "blue",
           "red",
           "blue",
           "blue",
           "red",
           "blue",
           "red",
           "blue",
           "blue",
           "red",
           "red",
           "blue",
           "red",
           "red",
           "blue",
           "blue",
           "blue",
           "blue",
           "blue",
           "blue",
           "red",
           "red",
           "red",
           "red",
           "blue",
           "blue",
           "blue",
           "red",
           "red",
           "blue",
           "blue",
           "red",
           "red",
           "red",
           "blue",
           "red",
           "red",
           "red",
           "blue",
           "red",
           "blue",
           "red",
           "red",
           "red",
           "blue",
           "red",
           "blue",
           "red",
           "red",
           "blue",
           "red",
           "red",
           "red",
           "red",
           "red",
           "red",
           "blue",
           "blue",
           "red",
           "red",
           "red",
           "blue",
           "red",
           "red",
           "red",
           "blue",
           "red",
           "red",
           "blue",
           "blue",
           "blue",
           "blue",
           "blue",
           "red",
           "red",
           "red",
           "blue",
           "red",
           "red",
           "red",
           "red",
           "red",
           "blue",
           "blue",
           "blue",
           "blue",
           "blue",
           "red",
           "red",
           "blue",
           "red",
           "blue",
           "red",
           "red",
           "blue",
           "red",
           "blue",
           "red",
           "blue",
           "red",
           "red",
           "blue",
           "red",
           "red",
           "blue",
           "blue",
           "red",
           "blue",
           "red",
           "blue",
           "red",
           "red",
           "red",
           "blue",
           "red",
           "blue",
           "blue",
           "blue",
           "blue",
           "red",
           "blue",
           "blue",
           "blue",
           "blue",
           "red",
           "blue",
           "blue",
           "red",
           "red",
           "red",
           "red",
           "blue",
           "red",
           "red",
           "blue",
           "blue",
           "red",
           "blue",
           "blue",
           "blue",
           "blue",
           "red",
           "red",
           "red",
           "red",
           "blue",
           "red",
           "red",
           "red",
           "blue",
           "blue",
           "red",
           "red",
           "red",
           "red",
           "red",
           "red",
           "blue",
           "blue",
           "red",
           "red",
           "blue",
           "red",
           "blue",
           "red",
           "blue",
           "red",
           "blue",
           "blue",
           "red",
           "red",
           "blue",
           "blue",
           "red",
           "red",
           "blue",
           "red",
           "red",
           "blue",
           "red",
           "red",
           "red",
           "blue",
           "blue",
           "red",
           "red",
           "red",
           "blue",
           "red",
           "red",
           "blue",
           "red",
           "blue",
           "red",
           "red",
           "blue",
           "red",
           "blue",
           "blue",
           "blue",
           "red",
           "blue",
           "blue",
           "red",
           "blue",
           "blue",
           "red",
           "red",
           "blue",
           "red",
           "blue",
           "red",
           "red",
           "blue",
           "blue",
           "red",
           "blue",
           "red",
           "blue",
           "blue",
           "red",
           "red",
           "blue",
           "blue",
           "red",
           "blue",
           "blue",
           "red",
           "blue",
           "blue",
           "blue",
           "blue",
           "red",
           "blue",
           "red",
           "red",
           "blue",
           "blue",
           "blue",
           "red",
           "blue",
           "red",
           "red",
           "red",
           "red",
           "blue",
           "red",
           "blue",
           "red",
           "blue",
           "blue",
           "red",
           "red",
           "red",
           "blue",
           "red",
           "blue",
           "blue",
           "blue",
           "blue",
           "blue",
           "red",
           "red",
           "red",
           "blue",
           "red",
           "blue",
           "blue",
           "red",
           "red",
           "red",
           "blue",
           "blue",
           "blue",
           "blue",
           "blue",
           "blue",
           "blue",
           "red",
           "red",
           "red",
           "blue",
           "blue",
           "blue",
           "red",
           "blue",
           "blue",
           "red",
           "blue",
           "blue",
           "red",
           "blue",
           "blue",
           "red",
           "red",
           "blue",
           "blue",
           "blue",
           "blue",
           "red",
           "red",
           "blue",
           "blue",
           "blue",
           "blue",
           "blue",
           "blue",
           "blue",
           "red",
           "blue",
           "blue",
           "red",
           "red",
           "red",
           "blue",
           "blue",
           "blue",
           "red",
           "blue",
           "red",
           "red",
           "red",
           "red",
           "red",
           "red",
           "red",
           "red",
           "red",
           "red",
           "blue",
           "red",
           "red",
           "red"
          ],
          "size": 5
         },
         "mode": "markers",
         "text": [
          "Aderholt (R-AL)",
          "Auchincloss (D-MA)",
          "Amodei (R-NV)",
          "Adams (D-NC)",
          "Aguilar (D-CA)",
          "Allen (R-GA)",
          "Arrington (R-TX)",
          "Allred (D-TX)",
          "Armstrong (R-ND)",
          "Alford (R-MO)",
          "Amo (D-RI)",
          "Bishop (GA) (D-GA)",
          "Blumenauer (D-OR)",
          "Bentz (R-OR)",
          "Bice (R-OK)",
          "Boebert (R-CO)",
          "Burgess (R-TX)",
          "Bilirakis (R-FL)",
          "Buchanan (R-FL)",
          "Bucshon (R-IN)",
          "Bonamici (D-OR)",
          "Beatty (D-OH)",
          "Barr (R-KY)",
          "Brownley (D-CA)",
          "Bera (D-CA)",
          "Babin (R-TX)",
          "Beyer (D-VA)",
          "Bost (R-IL)",
          "Boyle (PA) (D-PA)",
          "Bacon (R-NE)",
          "Banks (R-IN)",
          "Barragán (D-CA)",
          "Bergman (R-MI)",
          "Biggs (R-AZ)",
          "Blunt Rochester (D-DE)",
          "Balderson (R-OH)",
          "Baird (R-IN)",
          "Burchett (R-TN)",
          "Bishop (NC) (R-NC)",
          "Brown (D-OH)",
          "Bean (FL) (R-FL)",
          "Budzinski (D-IL)",
          "Burlison (R-MO)",
          "Brecheen (R-OK)",
          "Balint (D-VT)",
          "Calvert (R-CA)",
          "Clyburn (D-SC)",
          "Cammack (R-FL)",
          "Carter (TX) (R-TX)",
          "Cole (R-OK)",
          "Carl (R-AL)",
          "Case (D-HI)",
          "Costa (D-CA)",
          "Cleaver (D-MO)",
          "Cuellar (D-TX)",
          "Castor (FL) (D-FL)",
          "Clarke (NY) (D-NY)",
          "Cohen (D-TN)",
          "Courtney (D-CT)",
          "Carson (D-IN)",
          "Connolly (D-VA)",
          "Chu (D-CA)",
          "Crawford (R-AR)",
          "Cartwright (D-PA)",
          "Castro (TX) (D-TX)",
          "Cárdenas (D-CA)",
          "Clark (MA) (D-MA)",
          "Carter (GA) (R-GA)",
          "Comer (R-KY)",
          "Correa (D-CA)",
          "Carbajal (D-CA)",
          "Curtis (R-UT)",
          "Cloud (R-TX)",
          "Clyde (R-GA)",
          "Casten (D-IL)",
          "Cline (R-VA)",
          "Craig (D-MN)",
          "Crenshaw (R-TX)",
          "Crow (D-CO)",
          "Carter (LA) (D-LA)",
          "Carey (R-OH)",
          "Cherfilus-McCormick (D-FL)",
          "Collins (R-GA)",
          "Crockett (D-TX)",
          "Casar (D-TX)",
          "Crane (R-AZ)",
          "Ciscomani (R-AZ)",
          "Caraveo (D-CO)",
          "Chavez-DeRemer (R-OR)",
          "Donalds (R-FL)",
          "Davis (IL) (D-IL)",
          "DeGette (D-CO)",
          "DeLauro (D-CT)",
          "Davis (NC) (D-NC)",
          "Doggett (D-TX)",
          "Deluzio (D-PA)",
          "De La Cruz (R-TX)",
          "Diaz-Balart (R-FL)",
          "Duncan (R-SC)",
          "DesJarlais (R-TN)",
          "DelBene (D-WA)",
          "DeSaulnier (D-CA)",
          "Dingell (D-MI)",
          "Davidson (R-OH)",
          "Dunn (FL) (R-FL)",
          "Davids (KS) (D-KS)",
          "Dean (PA) (D-PA)",
          "D'Esposito (R-NY)",
          "Duarte (R-CA)",
          "Ellzey (R-TX)",
          "Eshoo (D-CA)",
          "Ezell (R-MS)",
          "Edwards (R-NC)",
          "Emmer (R-MN)",
          "Espaillat (D-NY)",
          "Estes (R-KS)",
          "Escobar (D-TX)",
          "Fallon (R-TX)",
          "Feenstra (R-IA)",
          "Foxx (R-NC)",
          "Foster (D-IL)",
          "Fleischmann (R-TN)",
          "Frankel, Lois (D-FL)",
          "Ferguson (R-GA)",
          "Fitzpatrick (R-PA)",
          "Fletcher (D-TX)",
          "Fulcher (R-ID)",
          "Fischbach (R-MN)",
          "Fitzgerald (R-WI)",
          "Franklin, Scott (R-FL)",
          "Flood (R-NE)",
          "Finstad (R-MN)",
          "Frost (D-FL)",
          "Foushee (D-NC)",
          "Fry (R-SC)",
          "Garcia, Mike (R-CA)",
          "Graves (MO) (R-MO)",
          "Green, Al (TX) (D-TX)",
          "Guthrie (R-KY)",
          "Gosar (R-AZ)",
          "Griffith (R-VA)",
          "Gallego (D-AZ)",
          "Grothman (R-WI)",
          "Graves (LA) (R-LA)",
          "Gonzalez, V. (D-TX)",
          "Gottheimer (D-NJ)",
          "Gomez (D-CA)",
          "García (IL) (D-IL)",
          "Garcia (TX) (D-TX)",
          "Gooden (TX) (R-TX)",
          "Green (TN) (R-TN)",
          "Guest (R-MS)",
          "Golden (ME) (D-ME)",
          "Gimenez (R-FL)",
          "Gonzales, Tony (R-TX)",
          "Good (VA) (R-VA)",
          "Greene (GA) (R-GA)",
          "Garbarino (R-NY)",
          "Garcia, Robert (D-CA)",
          "Goldman (NY) (D-NY)",
          "Perez (D-WA)",
          "Hoyer (D-MD)",
          "Himes (D-CT)",
          "Harris (R-MD)",
          "Huizenga (R-MI)",
          "Horsford (D-NV)",
          "Hudson (R-NC)",
          "Huffman (D-CA)",
          "Hill (R-AR)",
          "Higgins (LA) (R-LA)",
          "Hayes (D-CT)",
          "Hern (R-OK)",
          "Houlahan (D-PA)",
          "Harshbarger (R-TN)",
          "Harder (CA) (D-CA)",
          "Hinson (R-IA)",
          "Houchin (R-IN)",
          "Hoyle (OR) (D-OR)",
          "Hageman (R-WY)",
          "Issa (R-CA)",
          "Ivey (D-MD)",
          "Johnson (GA) (D-GA)",
          "Jordan (R-OH)",
          "Jeffries (D-NY)",
          "Joyce (OH) (R-OH)",
          "Jayapal (D-WA)",
          "Johnson (SD) (R-SD)",
          "Joyce (PA) (R-PA)",
          "Jackson (TX) (R-TX)",
          "Jacobs (D-CA)",
          "James (R-MI)",
          "Jackson (NC) (D-NC)",
          "Jackson (IL) (D-IL)",
          "Kaptur (D-OH)",
          "Keating (D-MA)",
          "Kelly (PA) (R-PA)",
          "Kildee (D-MI)",
          "Kilmer (D-WA)",
          "Kuster (D-NH)",
          "Kelly (IL) (D-IL)",
          "Kelly (MS) (R-MS)",
          "Khanna (D-CA)",
          "Krishnamoorthi (D-IL)",
          "Kustoff (R-TN)",
          "Kim (CA) (R-CA)",
          "Kean (NJ) (R-NJ)",
          "Kiggans (VA) (R-VA)",
          "Kamlager-Dove (D-CA)",
          "Kiley (R-CA)",
          "LaTurner (R-KS)",
          "Leger Fernandez (D-NM)",
          "Lofgren (D-CA)",
          "Lucas (R-OK)",
          "Lee (CA) (D-CA)",
          "Larson (CT) (D-CT)",
          "Larsen (WA) (D-WA)",
          "Lynch (D-MA)",
          "Lamborn (R-CO)",
          "Latta (R-OH)",
          "Luetkemeyer (R-MO)",
          "LaMalfa (R-CA)",
          "Lieu (D-CA)",
          "Loudermilk (R-GA)",
          "LaHood (R-IL)",
          "Lesko (R-AZ)",
          "Lee (NV) (D-NV)",
          "Levin (D-CA)",
          "Letlow (R-LA)",
          "Luna (R-FL)",
          "Lee (FL) (R-FL)",
          "LaLota (R-NY)",
          "Lawler (R-NY)",
          "Langworthy (R-NY)",
          "Landsman (D-OH)",
          "Lee (PA) (D-PA)",
          "Luttrell (R-TX)",
          "Mace (R-SC)",
          "McGovern (D-MA)",
          "Malliotakis (R-NY)",
          "Mfume (D-MD)",
          "Mann (R-KS)",
          "Manning (D-NC)",
          "McClain (R-MI)",
          "Meeks (D-NY)",
          "McCollum (D-MN)",
          "McCaul (R-TX)",
          "Rodgers (WA) (R-WA)",
          "Moore (WI) (D-WI)",
          "Matsui (D-CA)",
          "McClintock (R-CA)",
          "Massie (R-KY)",
          "Meng (D-NY)",
          "Moolenaar (R-MI)",
          "Mooney (R-WV)",
          "Moulton (D-MA)",
          "Mast (R-FL)",
          "Meuser (R-PA)",
          "Miller (WV) (R-WV)",
          "Morelle (D-NY)",
          "McBath (D-GA)",
          "Miller (IL) (R-IL)",
          "Moore (AL) (R-AL)",
          "Moore (UT) (R-UT)",
          "Mrvan (D-IN)",
          "Miller-Meeks (R-IA)",
          "Mills (R-FL)",
          "Moskowitz (D-FL)",
          "McCormick (R-GA)",
          "McGarvey (D-KY)",
          "Molinaro (R-NY)",
          "Miller (OH) (R-OH)",
          "Magaziner (D-RI)",
          "Moran (R-TX)",
          "Mullin (D-CA)",
          "Menendez (D-NJ)",
          "McClellan (D-VA)",
          "Maloy (R-UT)",
          "Nadler (D-NY)",
          "Neal (D-MA)",
          "Nehls (R-TX)",
          "Napolitano (D-CA)",
          "Norcross (D-NJ)",
          "Newhouse (R-WA)",
          "Norman (R-SC)",
          "Neguse (D-CO)",
          "Nunn (IA) (R-IA)",
          "Nickel (D-NC)",
          "Obernolte (R-CA)",
          "Owens (R-UT)",
          "Ocasio-Cortez (D-NY)",
          "Omar (D-MN)",
          "Ogles (R-TN)",
          "Pallone (D-NJ)",
          "Pfluger (R-TX)",
          "Pelosi (D-CA)",
          "Pingree (D-ME)",
          "Posey (R-FL)",
          "Perry (R-PA)",
          "Pocan (D-WI)",
          "Peters (D-CA)",
          "Palmer (R-AL)",
          "Panetta (D-CA)",
          "Pappas (D-NH)",
          "Pence (R-IN)",
          "Pressley (D-MA)",
          "Peltola (D-AK)",
          "Pettersen (D-CO)",
          "Quigley (D-IL)",
          "Rosendale (R-MT)",
          "Ross (D-NC)",
          "Rogers (KY) (R-KY)",
          "Rogers (AL) (R-AL)",
          "Ruppersberger (D-MD)",
          "Ryan (D-NY)",
          "Ruiz (D-CA)",
          "Rouzer (R-NC)",
          "Raskin (D-MD)",
          "Rutherford (R-FL)",
          "Reschenthaler (R-PA)",
          "Rose (R-TN)",
          "Roy (R-TX)",
          "Ramirez (D-IL)",
          "Salazar (R-FL)",
          "Scott (VA) (D-VA)",
          "Sessions (R-TX)",
          "Sherman (D-CA)",
          "Smith (WA) (D-WA)",
          "Smith (NJ) (R-NJ)",
          "Spartz (R-IN)",
          "Steel (R-CA)",
          "Schakowsky (D-IL)",
          "Simpson (R-ID)",
          "Schiff (D-CA)",
          "Sánchez (D-CA)",
          "Scott, David (D-GA)",
          "Strickland (D-WA)",
          "Sarbanes (D-MD)",
          "Smith (NE) (R-NE)",
          "Scalise (R-LA)",
          "Schweikert (R-AZ)",
          "Sewell (D-AL)",
          "Scott, Austin (R-GA)",
          "Schneider (D-IL)",
          "Swalwell (D-CA)",
          "Smith (MO) (R-MO)",
          "Stefanik (R-NY)",
          "Smucker (R-PA)",
          "Soto (D-FL)",
          "Suozzi (D-NY)",
          "Scanlon (D-PA)",
          "Sherrill (D-NJ)",
          "Slotkin (D-MI)",
          "Spanberger (D-VA)",
          "Stanton (D-AZ)",
          "Stauber (R-MN)",
          "Steil (R-WI)",
          "Steube (R-FL)",
          "Stevens (D-MI)",
          "Schrier (D-WA)",
          "Stansbury (D-NM)",
          "Strong (R-AL)",
          "Scholten (D-MI)",
          "Sykes (D-OH)",
          "Self (R-TX)",
          "Sorensen (D-IL)",
          "Salinas (D-OR)",
          "Tiffany (R-WI)",
          "Thompson (MS) (D-MS)",
          "Thompson (CA) (D-CA)",
          "Turner (R-OH)",
          "Thompson (PA) (R-PA)",
          "Titus (D-NV)",
          "Tonko (D-NY)",
          "Takano (D-CA)",
          "Torres (CA) (D-CA)",
          "Tenney (R-NY)",
          "Timmons (R-SC)",
          "Tlaib (D-MI)",
          "Trahan (D-MA)",
          "Torres (NY) (D-NY)",
          "Tokuda (D-HI)",
          "Thanedar (D-MI)",
          "Underwood (D-IL)",
          "Velázquez (D-NY)",
          "Valadao (R-CA)",
          "Vargas (D-CA)",
          "Veasey (D-TX)",
          "Van Drew (R-NJ)",
          "Van Duyne (R-TX)",
          "Van Orden (R-WI)",
          "Vasquez (D-NM)",
          "Waters (D-CA)",
          "Williams (GA) (D-GA)",
          "Wilson (SC) (R-SC)",
          "Wasserman Schultz (D-FL)",
          "Walberg (R-MI)",
          "Wittman (R-VA)",
          "Webster (FL) (R-FL)",
          "Womack (R-AR)",
          "Wagner (R-MO)",
          "Weber (TX) (R-TX)",
          "Wenstrup (R-OH)",
          "Williams (TX) (R-TX)",
          "Westerman (R-AR)",
          "Waltz (R-FL)",
          "Wild (D-PA)",
          "Williams (NY) (R-NY)",
          "Yakym (R-IN)",
          "Zinke (R-MT)"
         ],
         "type": "scatter",
         "x": {
          "bdata": "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",
          "dtype": "f8"
         },
         "y": {
          "bdata": "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",
          "dtype": "f8"
         }
        }
       ],
       "layout": {
        "template": {
         "data": {
          "bar": [
           {
            "error_x": {
             "color": "#2a3f5f"
            },
            "error_y": {
             "color": "#2a3f5f"
            },
            "marker": {
             "line": {
              "color": "#E5ECF6",
              "width": 0.5
             },
             "pattern": {
              "fillmode": "overlay",
              "size": 10,
              "solidity": 0.2
             }
            },
            "type": "bar"
           }
          ],
          "barpolar": [
           {
            "marker": {
             "line": {
              "color": "#E5ECF6",
              "width": 0.5
             },
             "pattern": {
              "fillmode": "overlay",
              "size": 10,
              "solidity": 0.2
             }
            },
            "type": "barpolar"
           }
          ],
          "carpet": [
           {
            "aaxis": {
             "endlinecolor": "#2a3f5f",
             "gridcolor": "white",
             "linecolor": "white",
             "minorgridcolor": "white",
             "startlinecolor": "#2a3f5f"
            },
            "baxis": {
             "endlinecolor": "#2a3f5f",
             "gridcolor": "white",
             "linecolor": "white",
             "minorgridcolor": "white",
             "startlinecolor": "#2a3f5f"
            },
            "type": "carpet"
           }
          ],
          "choropleth": [
           {
            "colorbar": {
             "outlinewidth": 0,
             "ticks": ""
            },
            "type": "choropleth"
           }
          ],
          "contour": [
           {
            "colorbar": {
             "outlinewidth": 0,
             "ticks": ""
            },
            "colorscale": [
             [
              0,
              "#0d0887"
             ],
             [
              0.1111111111111111,
              "#46039f"
             ],
             [
              0.2222222222222222,
              "#7201a8"
             ],
             [
              0.3333333333333333,
              "#9c179e"
             ],
             [
              0.4444444444444444,
              "#bd3786"
             ],
             [
              0.5555555555555556,
              "#d8576b"
             ],
             [
              0.6666666666666666,
              "#ed7953"
             ],
             [
              0.7777777777777778,
              "#fb9f3a"
             ],
             [
              0.8888888888888888,
              "#fdca26"
             ],
             [
              1,
              "#f0f921"
             ]
            ],
            "type": "contour"
           }
          ],
          "contourcarpet": [
           {
            "colorbar": {
             "outlinewidth": 0,
             "ticks": ""
            },
            "type": "contourcarpet"
           }
          ],
          "heatmap": [
           {
            "colorbar": {
             "outlinewidth": 0,
             "ticks": ""
            },
            "colorscale": [
             [
              0,
              "#0d0887"
             ],
             [
              0.1111111111111111,
              "#46039f"
             ],
             [
              0.2222222222222222,
              "#7201a8"
             ],
             [
              0.3333333333333333,
              "#9c179e"
             ],
             [
              0.4444444444444444,
              "#bd3786"
             ],
             [
              0.5555555555555556,
              "#d8576b"
             ],
             [
              0.6666666666666666,
              "#ed7953"
             ],
             [
              0.7777777777777778,
              "#fb9f3a"
             ],
             [
              0.8888888888888888,
              "#fdca26"
             ],
             [
              1,
              "#f0f921"
             ]
            ],
            "type": "heatmap"
           }
          ],
          "histogram": [
           {
            "marker": {
             "pattern": {
              "fillmode": "overlay",
              "size": 10,
              "solidity": 0.2
             }
            },
            "type": "histogram"
           }
          ],
          "histogram2d": [
           {
            "colorbar": {
             "outlinewidth": 0,
             "ticks": ""
            },
            "colorscale": [
             [
              0,
              "#0d0887"
             ],
             [
              0.1111111111111111,
              "#46039f"
             ],
             [
              0.2222222222222222,
              "#7201a8"
             ],
             [
              0.3333333333333333,
              "#9c179e"
             ],
             [
              0.4444444444444444,
              "#bd3786"
             ],
             [
              0.5555555555555556,
              "#d8576b"
             ],
             [
              0.6666666666666666,
              "#ed7953"
             ],
             [
              0.7777777777777778,
              "#fb9f3a"
             ],
             [
              0.8888888888888888,
              "#fdca26"
             ],
             [
              1,
              "#f0f921"
             ]
            ],
            "type": "histogram2d"
           }
          ],
          "histogram2dcontour": [
           {
            "colorbar": {
             "outlinewidth": 0,
             "ticks": ""
            },
            "colorscale": [
             [
              0,
              "#0d0887"
             ],
             [
              0.1111111111111111,
              "#46039f"
             ],
             [
              0.2222222222222222,
              "#7201a8"
             ],
             [
              0.3333333333333333,
              "#9c179e"
             ],
             [
              0.4444444444444444,
              "#bd3786"
             ],
             [
              0.5555555555555556,
              "#d8576b"
             ],
             [
              0.6666666666666666,
              "#ed7953"
             ],
             [
              0.7777777777777778,
              "#fb9f3a"
             ],
             [
              0.8888888888888888,
              "#fdca26"
             ],
             [
              1,
              "#f0f921"
             ]
            ],
            "type": "histogram2dcontour"
           }
          ],
          "mesh3d": [
           {
            "colorbar": {
             "outlinewidth": 0,
             "ticks": ""
            },
            "type": "mesh3d"
           }
          ],
          "parcoords": [
           {
            "line": {
             "colorbar": {
              "outlinewidth": 0,
              "ticks": ""
             }
            },
            "type": "parcoords"
           }
          ],
          "pie": [
           {
            "automargin": true,
            "type": "pie"
           }
          ],
          "scatter": [
           {
            "fillpattern": {
             "fillmode": "overlay",
             "size": 10,
             "solidity": 0.2
            },
            "type": "scatter"
           }
          ],
          "scatter3d": [
           {
            "line": {
             "colorbar": {
              "outlinewidth": 0,
              "ticks": ""
             }
            },
            "marker": {
             "colorbar": {
              "outlinewidth": 0,
              "ticks": ""
             }
            },
            "type": "scatter3d"
           }
          ],
          "scattercarpet": [
           {
            "marker": {
             "colorbar": {
              "outlinewidth": 0,
              "ticks": ""
             }
            },
            "type": "scattercarpet"
           }
          ],
          "scattergeo": [
           {
            "marker": {
             "colorbar": {
              "outlinewidth": 0,
              "ticks": ""
             }
            },
            "type": "scattergeo"
           }
          ],
          "scattergl": [
           {
            "marker": {
             "colorbar": {
              "outlinewidth": 0,
              "ticks": ""
             }
            },
            "type": "scattergl"
           }
          ],
          "scattermap": [
           {
            "marker": {
             "colorbar": {
              "outlinewidth": 0,
              "ticks": ""
             }
            },
            "type": "scattermap"
           }
          ],
          "scattermapbox": [
           {
            "marker": {
             "colorbar": {
              "outlinewidth": 0,
              "ticks": ""
             }
            },
            "type": "scattermapbox"
           }
          ],
          "scatterpolar": [
           {
            "marker": {
             "colorbar": {
              "outlinewidth": 0,
              "ticks": ""
             }
            },
            "type": "scatterpolar"
           }
          ],
          "scatterpolargl": [
           {
            "marker": {
             "colorbar": {
              "outlinewidth": 0,
              "ticks": ""
             }
            },
            "type": "scatterpolargl"
           }
          ],
          "scatterternary": [
           {
            "marker": {
             "colorbar": {
              "outlinewidth": 0,
              "ticks": ""
             }
            },
            "type": "scatterternary"
           }
          ],
          "surface": [
           {
            "colorbar": {
             "outlinewidth": 0,
             "ticks": ""
            },
            "colorscale": [
             [
              0,
              "#0d0887"
             ],
             [
              0.1111111111111111,
              "#46039f"
             ],
             [
              0.2222222222222222,
              "#7201a8"
             ],
             [
              0.3333333333333333,
              "#9c179e"
             ],
             [
              0.4444444444444444,
              "#bd3786"
             ],
             [
              0.5555555555555556,
              "#d8576b"
             ],
             [
              0.6666666666666666,
              "#ed7953"
             ],
             [
              0.7777777777777778,
              "#fb9f3a"
             ],
             [
              0.8888888888888888,
              "#fdca26"
             ],
             [
              1,
              "#f0f921"
             ]
            ],
            "type": "surface"
           }
          ],
          "table": [
           {
            "cells": {
             "fill": {
              "color": "#EBF0F8"
             },
             "line": {
              "color": "white"
             }
            },
            "header": {
             "fill": {
              "color": "#C8D4E3"
             },
             "line": {
              "color": "white"
             }
            },
            "type": "table"
           }
          ]
         },
         "layout": {
          "annotationdefaults": {
           "arrowcolor": "#2a3f5f",
           "arrowhead": 0,
           "arrowwidth": 1
          },
          "autotypenumbers": "strict",
          "coloraxis": {
           "colorbar": {
            "outlinewidth": 0,
            "ticks": ""
           }
          },
          "colorscale": {
           "diverging": [
            [
             0,
             "#8e0152"
            ],
            [
             0.1,
             "#c51b7d"
            ],
            [
             0.2,
             "#de77ae"
            ],
            [
             0.3,
             "#f1b6da"
            ],
            [
             0.4,
             "#fde0ef"
            ],
            [
             0.5,
             "#f7f7f7"
            ],
            [
             0.6,
             "#e6f5d0"
            ],
            [
             0.7,
             "#b8e186"
            ],
            [
             0.8,
             "#7fbc41"
            ],
            [
             0.9,
             "#4d9221"
            ],
            [
             1,
             "#276419"
            ]
           ],
           "sequential": [
            [
             0,
             "#0d0887"
            ],
            [
             0.1111111111111111,
             "#46039f"
            ],
            [
             0.2222222222222222,
             "#7201a8"
            ],
            [
             0.3333333333333333,
             "#9c179e"
            ],
            [
             0.4444444444444444,
             "#bd3786"
            ],
            [
             0.5555555555555556,
             "#d8576b"
            ],
            [
             0.6666666666666666,
             "#ed7953"
            ],
            [
             0.7777777777777778,
             "#fb9f3a"
            ],
            [
             0.8888888888888888,
             "#fdca26"
            ],
            [
             1,
             "#f0f921"
            ]
           ],
           "sequentialminus": [
            [
             0,
             "#0d0887"
            ],
            [
             0.1111111111111111,
             "#46039f"
            ],
            [
             0.2222222222222222,
             "#7201a8"
            ],
            [
             0.3333333333333333,
             "#9c179e"
            ],
            [
             0.4444444444444444,
             "#bd3786"
            ],
            [
             0.5555555555555556,
             "#d8576b"
            ],
            [
             0.6666666666666666,
             "#ed7953"
            ],
            [
             0.7777777777777778,
             "#fb9f3a"
            ],
            [
             0.8888888888888888,
             "#fdca26"
            ],
            [
             1,
             "#f0f921"
            ]
           ]
          },
          "colorway": [
           "#636efa",
           "#EF553B",
           "#00cc96",
           "#ab63fa",
           "#FFA15A",
           "#19d3f3",
           "#FF6692",
           "#B6E880",
           "#FF97FF",
           "#FECB52"
          ],
          "font": {
           "color": "#2a3f5f"
          },
          "geo": {
           "bgcolor": "white",
           "lakecolor": "white",
           "landcolor": "#E5ECF6",
           "showlakes": true,
           "showland": true,
           "subunitcolor": "white"
          },
          "hoverlabel": {
           "align": "left"
          },
          "hovermode": "closest",
          "mapbox": {
           "style": "light"
          },
          "paper_bgcolor": "white",
          "plot_bgcolor": "#E5ECF6",
          "polar": {
           "angularaxis": {
            "gridcolor": "white",
            "linecolor": "white",
            "ticks": ""
           },
           "bgcolor": "#E5ECF6",
           "radialaxis": {
            "gridcolor": "white",
            "linecolor": "white",
            "ticks": ""
           }
          },
          "scene": {
           "xaxis": {
            "backgroundcolor": "#E5ECF6",
            "gridcolor": "white",
            "gridwidth": 2,
            "linecolor": "white",
            "showbackground": true,
            "ticks": "",
            "zerolinecolor": "white"
           },
           "yaxis": {
            "backgroundcolor": "#E5ECF6",
            "gridcolor": "white",
            "gridwidth": 2,
            "linecolor": "white",
            "showbackground": true,
            "ticks": "",
            "zerolinecolor": "white"
           },
           "zaxis": {
            "backgroundcolor": "#E5ECF6",
            "gridcolor": "white",
            "gridwidth": 2,
            "linecolor": "white",
            "showbackground": true,
            "ticks": "",
            "zerolinecolor": "white"
           }
          },
          "shapedefaults": {
           "line": {
            "color": "#2a3f5f"
           }
          },
          "ternary": {
           "aaxis": {
            "gridcolor": "white",
            "linecolor": "white",
            "ticks": ""
           },
           "baxis": {
            "gridcolor": "white",
            "linecolor": "white",
            "ticks": ""
           },
           "bgcolor": "#E5ECF6",
           "caxis": {
            "gridcolor": "white",
            "linecolor": "white",
            "ticks": ""
           }
          },
          "title": {
           "x": 0.05
          },
          "xaxis": {
           "automargin": true,
           "gridcolor": "white",
           "linecolor": "white",
           "ticks": "",
           "title": {
            "standoff": 15
           },
           "zerolinecolor": "white",
           "zerolinewidth": 2
          },
          "yaxis": {
           "automargin": true,
           "gridcolor": "white",
           "linecolor": "white",
           "ticks": "",
           "title": {
            "standoff": 15
           },
           "zerolinecolor": "white",
           "zerolinewidth": 2
          }
         }
        },
        "title": {
         "font": {
          "size": 20
         },
         "text": "[2024]",
         "x": 0.5,
         "xanchor": "center"
        }
       }
      }
     },
     "metadata": {},
     "output_type": "display_data"
    }
   ],
   "source": [
    "fig = make_chart([2024])\n",
    "fig.show()"
   ]
  }
 ],
 "metadata": {
  "kernelspec": {
   "display_name": "Python 3",
   "language": "python",
   "name": "python3"
  },
  "language_info": {
   "codemirror_mode": {
    "name": "ipython",
    "version": 3
   },
   "file_extension": ".py",
   "mimetype": "text/x-python",
   "name": "python",
   "nbconvert_exporter": "python",
   "pygments_lexer": "ipython3",
   "version": "3.11.2"
  }
 },
 "nbformat": 4,
 "nbformat_minor": 5
}
